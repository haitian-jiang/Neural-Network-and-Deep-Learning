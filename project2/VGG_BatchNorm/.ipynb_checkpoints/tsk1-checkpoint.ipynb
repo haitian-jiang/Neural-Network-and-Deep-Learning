{
 "cells": [
  {
   "cell_type": "code",
   "execution_count": 33,
   "id": "4b47cbc3-5466-421f-a63c-6eddec1a8eca",
   "metadata": {},
   "outputs": [],
   "source": [
    "from matplotlib import pyplot as plt\n",
    "from torch import nn\n",
    "import numpy as np\n",
    "import torch\n",
    "import os\n",
    "import random\n",
    "from tqdm.notebook import tqdm as tqdm\n",
    "from IPython import display\n",
    "\n",
    "from models.vgg import VGG_A_Dropout\n",
    "from models.vgg_bn import VGG_A_Dropout_BN\n",
    "from data.loaders import get_cifar_loader"
   ]
  },
  {
   "cell_type": "code",
   "execution_count": 8,
   "id": "50b97c16-c3ab-4538-96fa-ba8100e497c8",
   "metadata": {},
   "outputs": [],
   "source": [
    "def get_accuracy(model, loader):\n",
    "    correct = 0\n",
    "    total = 0\n",
    "    with torch.no_grad():\n",
    "        for X, y in loader:\n",
    "            X, y = X.to(device), y.to(device)\n",
    "            out = model(X)\n",
    "            y_pred = torch.max(out.data, 1)[1]  # TODO\n",
    "            total += y.size(0)\n",
    "            correct += (y_pred == y).sum()\n",
    "    return (100 * float(correct) / total)"
   ]
  },
  {
   "cell_type": "code",
   "execution_count": 9,
   "id": "7ef88576-d19f-42a6-8f16-920ed434c2bf",
   "metadata": {},
   "outputs": [],
   "source": [
    "def set_random_seeds(seed_value=0, device='cpu'):\n",
    "    np.random.seed(seed_value)\n",
    "    torch.manual_seed(seed_value)\n",
    "    random.seed(seed_value)\n",
    "    if device != 'cpu': \n",
    "        torch.cuda.manual_seed(seed_value)\n",
    "        torch.cuda.manual_seed_all(seed_value)\n",
    "        torch.backends.cudnn.deterministic = True\n",
    "        torch.backends.cudnn.benchmark = False"
   ]
  },
  {
   "cell_type": "code",
   "execution_count": 11,
   "id": "158500e4-522e-44cd-b6ed-212839ec036a",
   "metadata": {},
   "outputs": [],
   "source": [
    "\n",
    "def train(model, optimizer, criterion, train_loader, val_loader, scheduler=None, epochs_n=100, best_model_path=None):\n",
    "    model.to(device)\n",
    "    learning_curve = [0] * epochs_n\n",
    "    train_accuracy_curve = [0] * epochs_n\n",
    "    val_accuracy_curve = [0] * epochs_n\n",
    "    max_val_accuracy = 0\n",
    "    max_val_accuracy_epoch = 0\n",
    "\n",
    "    batches_n = len(train_loader)\n",
    "    losses_list = []\n",
    "    grads = []\n",
    "    for epoch in tqdm(range(epochs_n), unit='epoch'):\n",
    "        if scheduler is not None:\n",
    "            scheduler.step()\n",
    "        model.train()\n",
    "\n",
    "        loss_list = []  # use this to record the loss value of each step\n",
    "        grad_list = []  # use this to record the loss gradient of each step\n",
    "        learning_curve[epoch] = 0  # maintain this to plot the training curve\n",
    "\n",
    "        for data in train_loader:\n",
    "            x, y = data\n",
    "            x = x.to(device)\n",
    "            y = y.to(device)\n",
    "            optimizer.zero_grad()\n",
    "            prediction = model(x)\n",
    "            loss = criterion(prediction, y)\n",
    "            loss.backward()\n",
    "            optimizer.step()\n",
    "            loss_list.append(loss.item())\n",
    "\n",
    "        losses_list += loss_list\n",
    "\n",
    "        model.eval()\n",
    "        val_accuracy_curve[epoch] = get_accuracy(model, val_loader)\n",
    "        print(\"val acc:\", val_accuracy_curve[epoch])\n",
    "\n",
    "    return losses_list, val_accuracy_curve"
   ]
  },
  {
   "cell_type": "code",
   "execution_count": 25,
   "id": "be9c978c-a74a-467e-a34e-bab6b95d1535",
   "metadata": {},
   "outputs": [],
   "source": [
    "device=torch.device('cuda')\n",
    "set_random_seeds(seed_value=6666, device=device)\n",
    "model = VGG_A_Light()\n",
    "model_bn = VGG_A_Light_BN()\n",
    "lr = 0.001\n",
    "optimizer = torch.optim.Adam(model.parameters(), lr = lr)\n",
    "criterion = nn.CrossEntropyLoss()"
   ]
  },
  {
   "cell_type": "code",
   "execution_count": 26,
   "id": "f0a7c1d9-9f43-47c2-8282-de0a083e75f1",
   "metadata": {},
   "outputs": [
    {
     "data": {
      "application/vnd.jupyter.widget-view+json": {
       "model_id": "a8886e019baf4ff1844ecfbb050093c8",
       "version_major": 2,
       "version_minor": 0
      },
      "text/plain": [
       "  0%|          | 0/20 [00:00<?, ?epoch/s]"
      ]
     },
     "metadata": {},
     "output_type": "display_data"
    },
    {
     "name": "stdout",
     "output_type": "stream",
     "text": [
      "val acc: 59.49\n",
      "val acc: 65.53\n",
      "val acc: 67.2\n",
      "val acc: 68.82\n",
      "val acc: 70.02\n",
      "val acc: 69.88\n",
      "val acc: 71.05\n",
      "val acc: 69.55\n",
      "val acc: 71.3\n",
      "val acc: 70.76\n",
      "val acc: 70.88\n",
      "val acc: 70.48\n",
      "val acc: 71.72\n",
      "val acc: 70.86\n",
      "val acc: 71.17\n",
      "val acc: 68.97\n",
      "val acc: 69.92\n",
      "val acc: 70.6\n",
      "val acc: 69.72\n",
      "val acc: 69.98\n"
     ]
    },
    {
     "ename": "NameError",
     "evalue": "name 'model_BN' is not defined",
     "output_type": "error",
     "traceback": [
      "\u001b[0;31m---------------------------------------------------------------------------\u001b[0m",
      "\u001b[0;31mNameError\u001b[0m                                 Traceback (most recent call last)",
      "\u001b[0;32m/tmp/ipykernel_7168/3482652041.py\u001b[0m in \u001b[0;36m<module>\u001b[0;34m\u001b[0m\n\u001b[1;32m      2\u001b[0m \u001b[0mval_loader\u001b[0m \u001b[0;34m=\u001b[0m \u001b[0mget_cifar_loader\u001b[0m\u001b[0;34m(\u001b[0m\u001b[0mtrain\u001b[0m\u001b[0;34m=\u001b[0m\u001b[0;32mFalse\u001b[0m\u001b[0;34m)\u001b[0m\u001b[0;34m\u001b[0m\u001b[0;34m\u001b[0m\u001b[0m\n\u001b[1;32m      3\u001b[0m \u001b[0mlosses\u001b[0m\u001b[0;34m,\u001b[0m \u001b[0mval_acc\u001b[0m \u001b[0;34m=\u001b[0m \u001b[0mtrain\u001b[0m\u001b[0;34m(\u001b[0m\u001b[0mmodel\u001b[0m\u001b[0;34m,\u001b[0m \u001b[0moptimizer\u001b[0m\u001b[0;34m,\u001b[0m \u001b[0mcriterion\u001b[0m\u001b[0;34m,\u001b[0m \u001b[0mtrain_loader\u001b[0m\u001b[0;34m,\u001b[0m \u001b[0mval_loader\u001b[0m\u001b[0;34m,\u001b[0m \u001b[0mepochs_n\u001b[0m\u001b[0;34m=\u001b[0m\u001b[0;36m20\u001b[0m\u001b[0;34m)\u001b[0m\u001b[0;34m\u001b[0m\u001b[0;34m\u001b[0m\u001b[0m\n\u001b[0;32m----> 4\u001b[0;31m \u001b[0mlosses_BN\u001b[0m\u001b[0;34m,\u001b[0m \u001b[0mval_acc_BN\u001b[0m \u001b[0;34m=\u001b[0m \u001b[0mtrain\u001b[0m\u001b[0;34m(\u001b[0m\u001b[0mmodel_BN\u001b[0m\u001b[0;34m,\u001b[0m \u001b[0moptimizer\u001b[0m\u001b[0;34m,\u001b[0m \u001b[0mcriterion\u001b[0m\u001b[0;34m,\u001b[0m \u001b[0mtrain_loader\u001b[0m\u001b[0;34m,\u001b[0m \u001b[0mval_loader\u001b[0m\u001b[0;34m,\u001b[0m \u001b[0mepochs_n\u001b[0m\u001b[0;34m=\u001b[0m\u001b[0;36m20\u001b[0m\u001b[0;34m)\u001b[0m\u001b[0;34m\u001b[0m\u001b[0;34m\u001b[0m\u001b[0m\n\u001b[0m",
      "\u001b[0;31mNameError\u001b[0m: name 'model_BN' is not defined"
     ]
    }
   ],
   "source": [
    "train_loader = get_cifar_loader(train=True)\n",
    "val_loader = get_cifar_loader(train=False)\n",
    "losses, val_acc = train(model, optimizer, criterion, train_loader, val_loader, epochs_n=20)\n",
    "losses_BN, val_acc_BN = train(model_bn, optimizer, criterion, train_loader, val_loader, epochs_n=20)"
   ]
  },
  {
   "cell_type": "code",
   "execution_count": 29,
   "id": "5cf45e3a-c635-44fd-9a07-c6036a8f1e3a",
   "metadata": {},
   "outputs": [
    {
     "data": {
      "application/vnd.jupyter.widget-view+json": {
       "model_id": "ebfe73a051bd408e8bd1485c5cf3c231",
       "version_major": 2,
       "version_minor": 0
      },
      "text/plain": [
       "  0%|          | 0/20 [00:00<?, ?epoch/s]"
      ]
     },
     "metadata": {},
     "output_type": "display_data"
    },
    {
     "name": "stdout",
     "output_type": "stream",
     "text": [
      "val acc: 58.63\n",
      "val acc: 62.73\n",
      "val acc: 68.45\n",
      "val acc: 67.0\n",
      "val acc: 69.85\n",
      "val acc: 70.91\n",
      "val acc: 71.28\n",
      "val acc: 70.52\n",
      "val acc: 71.99\n",
      "val acc: 69.5\n",
      "val acc: 72.3\n",
      "val acc: 70.4\n",
      "val acc: 70.87\n",
      "val acc: 72.26\n",
      "val acc: 70.76\n",
      "val acc: 68.77\n",
      "val acc: 71.19\n",
      "val acc: 70.9\n",
      "val acc: 70.57\n",
      "val acc: 71.18\n"
     ]
    }
   ],
   "source": [
    "train_loader = get_cifar_loader(train=True)\n",
    "val_loader = get_cifar_loader(train=False)\n",
    "optimizer_bn = torch.optim.Adam(model_bn.parameters(), lr = lr)\n",
    "losses_BN, val_acc_BN = train(model_bn, optimizer_bn, criterion, train_loader, val_loader, epochs_n=20)"
   ]
  },
  {
   "cell_type": "code",
   "execution_count": null,
   "id": "2c6871c1-2558-41b0-952e-c332aac7bc53",
   "metadata": {},
   "outputs": [],
   "source": []
  },
  {
   "cell_type": "code",
   "execution_count": 2,
   "id": "94bce864-ecec-476e-8d85-d6a5f37ff4df",
   "metadata": {},
   "outputs": [],
   "source": []
  },
  {
   "cell_type": "code",
   "execution_count": 30,
   "id": "43a24b75-efa7-4f8b-9980-7a978b15be8f",
   "metadata": {},
   "outputs": [
    {
     "data": {
      "image/png": "[encoded data removed]",
      "text/plain": [
       "<Figure size 432x288 with 1 Axes>"
      ]
     },
     "metadata": {
      "needs_background": "light"
     },
     "output_type": "display_data"
    }
   ],
   "source": [
    "%matplotlib inline\n",
    "plt.plot(range(len(losses)), loss, label='no BN')\n",
    "plt.plot(range(len(losses_BN)), losses, label='with BN')\n",
    "plt.legend()\n",
    "plt.xlabel('step')\n",
    "plt.ylabel('loss')\n",
    "plt.title('Loss of VGG training')\n",
    "plt.show()"
   ]
  },
  {
   "cell_type": "code",
   "execution_count": 19,
   "id": "c829894d-22fb-4ae7-98ba-9155dd241ec1",
   "metadata": {},
   "outputs": [],
   "source": [
    "val = torch.load(\"val_acc.pt\")"
   ]
  },
  {
   "cell_type": "code",
   "execution_count": 32,
   "id": "a800f8ae-1f2a-48b0-b12e-4c5fc88e6411",
   "metadata": {},
   "outputs": [
    {
     "data": {
      "image/png": "[encoded data removed]",
      "text/plain": [
       "<Figure size 432x288 with 1 Axes>"
      ]
     },
     "metadata": {
      "needs_background": "light"
     },
     "output_type": "display_data"
    }
   ],
   "source": [
    "%matplotlib inline\n",
    "plt.plot(range(len(val_acc)), val_acc, label='no BN')\n",
    "plt.plot(range(len(val_acc_BN)), val_acc_BN, label='with BN')\n",
    "plt.legend()\n",
    "plt.xlabel('epoch')\n",
    "plt.ylabel('validation accuracy')\n",
    "plt.title('Accuracy of VGG on validation')\n",
    "plt.show()"
   ]
  },
  {
   "cell_type": "code",
   "execution_count": 22,
   "id": "43b0649d-d757-4c24-8d54-1a2c8431e040",
   "metadata": {},
   "outputs": [
    {
     "data": {
      "text/plain": [
       "76.58"
      ]
     },
     "execution_count": 22,
     "metadata": {},
     "output_type": "execute_result"
    }
   ],
   "source": [
    "noBNacc = max(val)\n",
    "noBNacc"
   ]
  },
  {
   "cell_type": "code",
   "execution_count": 23,
   "id": "aa500794-7760-4167-b995-29e3c850de71",
   "metadata": {},
   "outputs": [
    {
     "data": {
      "text/plain": [
       "83.12"
      ]
     },
     "execution_count": 23,
     "metadata": {},
     "output_type": "execute_result"
    }
   ],
   "source": [
    "BNacc = max(val_acc)\n",
    "BNacc"
   ]
  },
  {
   "cell_type": "code",
   "execution_count": null,
   "id": "80b63e65-a115-4ec0-b8ca-0c1831588dfb",
   "metadata": {},
   "outputs": [],
   "source": []
  }
 ],
 "metadata": {
  "kernelspec": {
   "display_name": "Python 3 (ipykernel)",
   "language": "python",
   "name": "python3"
  },
  "language_info": {
   "codemirror_mode": {
    "name": "ipython",
    "version": 3
   },
   "file_extension": ".py",
   "mimetype": "text/x-python",
   "name": "python",
   "nbconvert_exporter": "python",
   "pygments_lexer": "ipython3",
   "version": "3.9.7"
  }
 },
 "nbformat": 4,
 "nbformat_minor": 5
}
